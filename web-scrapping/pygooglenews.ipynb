{
  "nbformat": 4,
  "nbformat_minor": 0,
  "metadata": {
    "colab": {
      "provenance": [],
      "include_colab_link": true
    },
    "kernelspec": {
      "name": "python3",
      "display_name": "Python 3"
    },
    "language_info": {
      "name": "python"
    }
  },
  "cells": [
    {
      "cell_type": "markdown",
      "metadata": {
        "id": "view-in-github",
        "colab_type": "text"
      },
      "source": [
        "<a href=\"https://colab.research.google.com/github/soumya527/News-Feedback-System/blob/main/web-scrapping/pygooglenews.ipynb\" target=\"_parent\"><img src=\"https://colab.research.google.com/assets/colab-badge.svg\" alt=\"Open In Colab\"/></a>"
      ]
    },
    {
      "cell_type": "code",
      "execution_count": null,
      "metadata": {
        "id": "cB9JR9ThCkDW"
      },
      "outputs": [],
      "source": [
        "import requests\n",
        "from bs4 import BeautifulSoup\n",
        "from textblob import TextBlob"
      ]
    },
    {
      "cell_type": "code",
      "source": [
        "def analyze_sentiment(text):\n",
        "    blob = TextBlob(text)\n",
        "    sentiment_score = blob.sentiment.polarity\n",
        "    if sentiment_score > 0:\n",
        "        return 'Positive'\n",
        "    elif sentiment_score < 0:\n",
        "        return 'Negative'\n",
        "    else:\n",
        "        return 'Neutral'"
      ],
      "metadata": {
        "id": "kcYO4PdpEzQl"
      },
      "execution_count": null,
      "outputs": []
    },
    {
      "cell_type": "code",
      "source": [
        "pip install --upgrade pip setuptools wheel"
      ],
      "metadata": {
        "colab": {
          "base_uri": "https://localhost:8080/"
        },
        "id": "hMuIq_RvGSkT",
        "outputId": "1f15948f-9247-440b-8d63-1eab914d613b"
      },
      "execution_count": null,
      "outputs": [
        {
          "output_type": "stream",
          "name": "stdout",
          "text": [
            "Requirement already satisfied: pip in /usr/local/lib/python3.10/dist-packages (24.0)\n",
            "Requirement already satisfied: setuptools in /usr/local/lib/python3.10/dist-packages (70.0.0)\n",
            "Requirement already satisfied: wheel in /usr/local/lib/python3.10/dist-packages (0.43.0)\n",
            "\u001b[33mWARNING: Running pip as the 'root' user can result in broken permissions and conflicting behaviour with the system package manager. It is recommended to use a virtual environment instead: https://pip.pypa.io/warnings/venv\u001b[0m\u001b[33m\n",
            "\u001b[0m"
          ]
        }
      ]
    },
    {
      "cell_type": "code",
      "source": [
        "pip install dateparser"
      ],
      "metadata": {
        "colab": {
          "base_uri": "https://localhost:8080/"
        },
        "id": "xTSURdvrHapd",
        "outputId": "20f9daad-62d8-4950-ee95-ef55d9ab323f"
      },
      "execution_count": null,
      "outputs": [
        {
          "output_type": "stream",
          "name": "stdout",
          "text": [
            "Collecting dateparser\n",
            "  Using cached dateparser-1.2.0-py2.py3-none-any.whl.metadata (28 kB)\n",
            "Requirement already satisfied: python-dateutil in /usr/local/lib/python3.10/dist-packages (from dateparser) (2.8.2)\n",
            "Requirement already satisfied: pytz in /usr/local/lib/python3.10/dist-packages (from dateparser) (2023.4)\n",
            "Requirement already satisfied: regex!=2019.02.19,!=2021.8.27 in /usr/local/lib/python3.10/dist-packages (from dateparser) (2024.5.15)\n",
            "Requirement already satisfied: tzlocal in /usr/local/lib/python3.10/dist-packages (from dateparser) (5.2)\n",
            "Requirement already satisfied: six>=1.5 in /usr/local/lib/python3.10/dist-packages (from python-dateutil->dateparser) (1.16.0)\n",
            "Using cached dateparser-1.2.0-py2.py3-none-any.whl (294 kB)\n",
            "Installing collected packages: dateparser\n",
            "Successfully installed dateparser-1.2.0\n",
            "\u001b[33mWARNING: Running pip as the 'root' user can result in broken permissions and conflicting behaviour with the system package manager. It is recommended to use a virtual environment instead: https://pip.pypa.io/warnings/venv\u001b[0m\u001b[33m\n",
            "\u001b[0m"
          ]
        }
      ]
    },
    {
      "cell_type": "code",
      "source": [
        "pip install feedparser"
      ],
      "metadata": {
        "colab": {
          "base_uri": "https://localhost:8080/"
        },
        "id": "OHMZeGtbGTmw",
        "outputId": "0a2246ca-9cc1-446e-da2c-c05d99ab1c57"
      },
      "execution_count": null,
      "outputs": [
        {
          "output_type": "stream",
          "name": "stdout",
          "text": [
            "Collecting feedparser\n",
            "  Using cached feedparser-6.0.11-py3-none-any.whl.metadata (2.4 kB)\n",
            "Collecting sgmllib3k (from feedparser)\n",
            "  Using cached sgmllib3k-1.0.0.tar.gz (5.8 kB)\n",
            "  Preparing metadata (setup.py) ... \u001b[?25l\u001b[?25hdone\n",
            "Using cached feedparser-6.0.11-py3-none-any.whl (81 kB)\n",
            "Building wheels for collected packages: sgmllib3k\n",
            "  Building wheel for sgmllib3k (setup.py) ... \u001b[?25l\u001b[?25hdone\n",
            "  Created wheel for sgmllib3k: filename=sgmllib3k-1.0.0-py3-none-any.whl size=6049 sha256=7aa3500b14f74f55881880ed3be17a923bf2efc44915a5272cae14b122582d0c\n",
            "  Stored in directory: /root/.cache/pip/wheels/f0/69/93/a47e9d621be168e9e33c7ce60524393c0b92ae83cf6c6e89c5\n",
            "Successfully built sgmllib3k\n",
            "Installing collected packages: sgmllib3k, feedparser\n",
            "Successfully installed feedparser-6.0.11 sgmllib3k-1.0.0\n",
            "\u001b[33mWARNING: Running pip as the 'root' user can result in broken permissions and conflicting behaviour with the system package manager. It is recommended to use a virtual environment instead: https://pip.pypa.io/warnings/venv\u001b[0m\u001b[33m\n",
            "\u001b[0m"
          ]
        }
      ]
    },
    {
      "cell_type": "code",
      "source": [
        "pip install pygooglenews --no-deps"
      ],
      "metadata": {
        "colab": {
          "base_uri": "https://localhost:8080/"
        },
        "id": "aSAZ92GFFVxz",
        "outputId": "1b69ae37-b7cf-4618-bf5f-b593b8006cae"
      },
      "execution_count": null,
      "outputs": [
        {
          "output_type": "stream",
          "name": "stdout",
          "text": [
            "Collecting pygooglenews\n",
            "  Downloading pygooglenews-0.1.2-py3-none-any.whl.metadata (19 kB)\n",
            "Downloading pygooglenews-0.1.2-py3-none-any.whl (10 kB)\n",
            "Installing collected packages: pygooglenews\n",
            "Successfully installed pygooglenews-0.1.2\n",
            "\u001b[33mWARNING: Running pip as the 'root' user can result in broken permissions and conflicting behaviour with the system package manager. It is recommended to use a virtual environment instead: https://pip.pypa.io/warnings/venv\u001b[0m\u001b[33m\n",
            "\u001b[0m"
          ]
        }
      ]
    },
    {
      "cell_type": "code",
      "source": [
        "\"\"\"from pygooglenews import GoogleNews\n",
        "import time\n",
        "gn = GoogleNews()\n",
        "num_headlines = 50\n",
        "\n",
        "headlines = []\n",
        "\n",
        "while len(headlines) < num_headlines:\n",
        "    top = gn.search('Ministry of Home Affairs India OR MHA India OR Amit Shah OR India internal security OR India central-state relations OR India law and order OR India police reforms')\n",
        "    entries = top[\"entries\"]\n",
        "    for entry in entries:\n",
        "        headlines.append(entry[\"title\"])\n",
        "        if len(headlines) >= num_headlines:\n",
        "            break\n",
        "    time.sleep(1)\n",
        "\n",
        "count = 1\n",
        "for title in headlines:\n",
        "    print(f\"Title {count}: {title}\\n\")\n",
        "    count += 1\"\"\"\n"
      ],
      "metadata": {
        "id": "BUeD4bP_idaD",
        "colab": {
          "base_uri": "https://localhost:8080/",
          "height": 140
        },
        "outputId": "fddb4e54-eeff-4aaa-a7d2-72f9cff96ce2"
      },
      "execution_count": null,
      "outputs": [
        {
          "output_type": "execute_result",
          "data": {
            "text/plain": [
              "'from pygooglenews import GoogleNews\\nimport time\\ngn = GoogleNews()\\nnum_headlines = 50\\n\\nheadlines = []\\n\\nwhile len(headlines) < num_headlines:\\n    top = gn.search(\\'Ministry of Home Affairs India OR MHA India OR Amit Shah OR India internal security OR India central-state relations OR India law and order OR India police reforms\\')\\n    entries = top[\"entries\"]\\n    for entry in entries:\\n        headlines.append(entry[\"title\"])\\n        if len(headlines) >= num_headlines:\\n            break\\n    time.sleep(1)\\n\\ncount = 1\\nfor title in headlines:\\n    print(f\"Title {count}: {title}\\n\")\\n    count += 1'"
            ],
            "application/vnd.google.colaboratory.intrinsic+json": {
              "type": "string"
            }
          },
          "metadata": {},
          "execution_count": 7
        }
      ]
    },
    {
      "cell_type": "code",
      "source": [
        "from pygooglenews import GoogleNews\n",
        "import csv\n",
        "import time\n",
        "\n",
        "def fetch_headlines(query, num_headlines=50):\n",
        "    gn = GoogleNews()\n",
        "    headlines = []\n",
        "\n",
        "    while len(headlines) < num_headlines:\n",
        "        top = gn.search(query)\n",
        "        entries = top.get(\"entries\", [])\n",
        "        for entry in entries:\n",
        "            headlines.append(entry[\"title\"])\n",
        "            if len(headlines) >= num_headlines:\n",
        "                break\n",
        "        time.sleep(1)  # to avoid hitting the rate limit\n",
        "\n",
        "    return headlines[:num_headlines]\n",
        "\n",
        "def append_to_csv(ministry, headlines, filename='gres.csv'):\n",
        "    with open(filename, mode='a', newline='', encoding='utf-8') as file:\n",
        "        writer = csv.writer(file)\n",
        "        for  headline in headlines:\n",
        "            writer.writerow([ministry, headline])\n",
        "\n",
        "# Define queries for each ministry\n",
        "ministry_queries = {\n",
        "    \"Ministry of Home Affairs (MHA)\": 'Ministry of Home Affairs India OR MHA India OR Amit Shah OR India internal security OR India central-state relations OR India law and order OR India police reforms',\n",
        "    \"Ministry of Finance\": 'Ministry of Finance India OR Nirmala Sitharaman OR India budget OR India economic policy OR India financial regulations OR India tax reforms OR India fiscal policy OR India public expenditure OR India revenue collection OR India financial sector',\n",
        "    \"Ministry of External Affairs (MEA)\": 'Ministry of External Affairs India OR S. Jaishankar OR India foreign policy OR India international relations OR India diplomacy OR India bilateral relations OR India multilateral relations OR India global partnerships OR India embassies OR India UN',\n",
        "    \"Ministry of Defence (MoD)\": 'Ministry of Defence India OR Rajnath Singh OR India defense policy OR India military operations OR India armed forces OR India defense budget OR India defense procurement OR India border security OR India military strategy OR India defense infrastructure OR India anti-terrorism',\n",
        "    \"Ministry of Railways\": 'Ministry of Railways India OR Ashwini Vaishnaw OR Indian Railways OR India railway projects OR India railway infrastructure OR India train services OR India railway budget OR India railway safety OR India bullet train OR India railway',\n",
        "    \"Ministry of Agriculture and Farmers Welfare\": 'Ministry of Agriculture and Farmers Welfare India OR Narendra Singh Tomar OR India agriculture policies OR India farmers\\' issues OR India agricultural reforms OR India crop production OR India agricultural subsidies OR India rural development OR India food security OR India agricultural technology',\n",
        "    \"Ministry of Health and Family Welfare\": 'Ministry of Health and Family Welfare India OR Mansukh Mandaviya OR India healthcare policies OR India public health OR India healthcare infrastructure OR India vaccination programs OR India disease control OR India maternal and child health OR India healthcare expenditure OR India healthcare technology',\n",
        "    \"Ministry of Education\": 'Ministry of Education India OR Dharmendra Pradhan OR India education policies OR India school education OR India higher education OR India digital education OR India educational reforms OR India literacy programs OR India skill development OR India education infrastructure',\n",
        "    \"Ministry of Road Transport and Highways\": 'Ministry of Road Transport and Highways India OR Nitin Gadkari OR India road infrastructure OR India highways development OR India road safety OR India transportation policy OR India road construction OR India highway projects OR India road maintenance',\n",
        "    \"Ministry of Commerce and Industry\": 'Ministry of Commerce and Industry India OR Piyush Goyal OR India trade policies OR India export promotion OR India import regulations OR India industrial development OR India investment promotion OR India trade agreements OR India start-up OR Business India',\n",
        "}\n",
        "\n",
        "# Initialize the CSV file\n",
        "filename = \"gres.csv\"\n",
        "with open(filename, mode='w', newline='', encoding='utf-8') as file:\n",
        "    writer = csv.writer(file)\n",
        "    writer.writerow(['Ministry', 'Headline'])\n",
        "\n",
        "# Fetch and write headlines for each ministry\n",
        "for ministry, query in ministry_queries.items():\n",
        "    print(f\"Fetching headlines for {ministry}...\")\n",
        "    headlines = fetch_headlines(query)\n",
        "    append_to_csv(ministry, headlines, filename)\n",
        "    print(f\"Headlines for {ministry} appended to CSV.\")\n"
      ],
      "metadata": {
        "id": "cnZ4BHyJJyAW",
        "colab": {
          "base_uri": "https://localhost:8080/"
        },
        "outputId": "0a79ecd5-1de6-48d4-8279-774a602b7c2b"
      },
      "execution_count": null,
      "outputs": [
        {
          "output_type": "stream",
          "name": "stdout",
          "text": [
            "Fetching headlines for Ministry of Home Affairs (MHA)...\n",
            "Headlines for Ministry of Home Affairs (MHA) appended to CSV.\n",
            "Fetching headlines for Ministry of Finance...\n",
            "Headlines for Ministry of Finance appended to CSV.\n",
            "Fetching headlines for Ministry of External Affairs (MEA)...\n",
            "Headlines for Ministry of External Affairs (MEA) appended to CSV.\n",
            "Fetching headlines for Ministry of Defence (MoD)...\n",
            "Headlines for Ministry of Defence (MoD) appended to CSV.\n",
            "Fetching headlines for Ministry of Railways...\n",
            "Headlines for Ministry of Railways appended to CSV.\n",
            "Fetching headlines for Ministry of Agriculture and Farmers Welfare...\n",
            "Headlines for Ministry of Agriculture and Farmers Welfare appended to CSV.\n",
            "Fetching headlines for Ministry of Health and Family Welfare...\n",
            "Headlines for Ministry of Health and Family Welfare appended to CSV.\n",
            "Fetching headlines for Ministry of Education...\n",
            "Headlines for Ministry of Education appended to CSV.\n",
            "Fetching headlines for Ministry of Road Transport and Highways...\n",
            "Headlines for Ministry of Road Transport and Highways appended to CSV.\n",
            "Fetching headlines for Ministry of Commerce and Industry...\n",
            "Headlines for Ministry of Commerce and Industry appended to CSV.\n"
          ]
        }
      ]
    },
    {
      "cell_type": "code",
      "source": [
        "import pandas as pd"
      ],
      "metadata": {
        "id": "jVlTDNlJ84zU"
      },
      "execution_count": null,
      "outputs": []
    },
    {
      "cell_type": "code",
      "source": [
        "df = pd.read_csv('gres.csv')"
      ],
      "metadata": {
        "id": "_ky1zieFNipZ"
      },
      "execution_count": null,
      "outputs": []
    },
    {
      "cell_type": "code",
      "source": [
        "df[['Headline', 'Source']] = df['Headline'].str.rsplit(' - ', n=1, expand=True)"
      ],
      "metadata": {
        "id": "cpVqebgs-ZFG"
      },
      "execution_count": null,
      "outputs": []
    },
    {
      "cell_type": "code",
      "source": [
        "import string\n",
        "import nltk\n",
        "from nltk.corpus import stopwords\n",
        "\n",
        "nltk.download('stopwords')\n",
        "\n",
        "def clean_text(text):\n",
        "    text = text.translate(str.maketrans('', '', string.punctuation))\n",
        "    text = ''.join(char for char in text if char.isalnum() or char.isspace())\n",
        "    text = text.lower()\n",
        "    stop_words = set(stopwords.words('english'))\n",
        "    text = ' '.join(word for word in text.split() if word not in stop_words)\n",
        "    return text\n",
        "\n",
        "df['Headline'] = df['Headline'].apply(clean_text)\n",
        "df.to_csv('gres.csv')"
      ],
      "metadata": {
        "colab": {
          "base_uri": "https://localhost:8080/"
        },
        "id": "plzmDRcf9IgF",
        "outputId": "bbba3af0-29dc-4d94-c602-cb5d9a6fa740"
      },
      "execution_count": null,
      "outputs": [
        {
          "output_type": "stream",
          "name": "stderr",
          "text": [
            "[nltk_data] Downloading package stopwords to /root/nltk_data...\n",
            "[nltk_data]   Unzipping corpora/stopwords.zip.\n"
          ]
        }
      ]
    },
    {
      "cell_type": "code",
      "source": [
        "df.head()"
      ],
      "metadata": {
        "id": "k4mrEih-91ci",
        "colab": {
          "base_uri": "https://localhost:8080/",
          "height": 293
        },
        "outputId": "da5e9dc3-8658-407e-d502-d1141a791276"
      },
      "execution_count": null,
      "outputs": [
        {
          "output_type": "execute_result",
          "data": {
            "text/plain": [
              "                         Ministry  \\\n",
              "0  Ministry of Home Affairs (MHA)   \n",
              "1  Ministry of Home Affairs (MHA)   \n",
              "2  Ministry of Home Affairs (MHA)   \n",
              "3  Ministry of Home Affairs (MHA)   \n",
              "4  Ministry of Home Affairs (MHA)   \n",
              "\n",
              "                                            Headline              Source  \n",
              "0    citizens state policing impunity rule law india    The Hindu Centre  \n",
              "1  simplify colonial laws mha asks state dgps sen...  The Indian Express  \n",
              "2  blog police public public police india needs p...       Men's Day Out  \n",
              "3               three criminal laws effective july 1           The Hindu  \n",
              "4                                    democracy india       Chatham House  "
            ],
            "text/html": [
              "\n",
              "  <div id=\"df-a54d2177-4d34-478f-ae5a-7a3cd134fecb\" class=\"colab-df-container\">\n",
              "    <div>\n",
              "<style scoped>\n",
              "    .dataframe tbody tr th:only-of-type {\n",
              "        vertical-align: middle;\n",
              "    }\n",
              "\n",
              "    .dataframe tbody tr th {\n",
              "        vertical-align: top;\n",
              "    }\n",
              "\n",
              "    .dataframe thead th {\n",
              "        text-align: right;\n",
              "    }\n",
              "</style>\n",
              "<table border=\"1\" class=\"dataframe\">\n",
              "  <thead>\n",
              "    <tr style=\"text-align: right;\">\n",
              "      <th></th>\n",
              "      <th>Ministry</th>\n",
              "      <th>Headline</th>\n",
              "      <th>Source</th>\n",
              "    </tr>\n",
              "  </thead>\n",
              "  <tbody>\n",
              "    <tr>\n",
              "      <th>0</th>\n",
              "      <td>Ministry of Home Affairs (MHA)</td>\n",
              "      <td>citizens state policing impunity rule law india</td>\n",
              "      <td>The Hindu Centre</td>\n",
              "    </tr>\n",
              "    <tr>\n",
              "      <th>1</th>\n",
              "      <td>Ministry of Home Affairs (MHA)</td>\n",
              "      <td>simplify colonial laws mha asks state dgps sen...</td>\n",
              "      <td>The Indian Express</td>\n",
              "    </tr>\n",
              "    <tr>\n",
              "      <th>2</th>\n",
              "      <td>Ministry of Home Affairs (MHA)</td>\n",
              "      <td>blog police public public police india needs p...</td>\n",
              "      <td>Men's Day Out</td>\n",
              "    </tr>\n",
              "    <tr>\n",
              "      <th>3</th>\n",
              "      <td>Ministry of Home Affairs (MHA)</td>\n",
              "      <td>three criminal laws effective july 1</td>\n",
              "      <td>The Hindu</td>\n",
              "    </tr>\n",
              "    <tr>\n",
              "      <th>4</th>\n",
              "      <td>Ministry of Home Affairs (MHA)</td>\n",
              "      <td>democracy india</td>\n",
              "      <td>Chatham House</td>\n",
              "    </tr>\n",
              "  </tbody>\n",
              "</table>\n",
              "</div>\n",
              "    <div class=\"colab-df-buttons\">\n",
              "\n",
              "  <div class=\"colab-df-container\">\n",
              "    <button class=\"colab-df-convert\" onclick=\"convertToInteractive('df-a54d2177-4d34-478f-ae5a-7a3cd134fecb')\"\n",
              "            title=\"Convert this dataframe to an interactive table.\"\n",
              "            style=\"display:none;\">\n",
              "\n",
              "  <svg xmlns=\"http://www.w3.org/2000/svg\" height=\"24px\" viewBox=\"0 -960 960 960\">\n",
              "    <path d=\"M120-120v-720h720v720H120Zm60-500h600v-160H180v160Zm220 220h160v-160H400v160Zm0 220h160v-160H400v160ZM180-400h160v-160H180v160Zm440 0h160v-160H620v160ZM180-180h160v-160H180v160Zm440 0h160v-160H620v160Z\"/>\n",
              "  </svg>\n",
              "    </button>\n",
              "\n",
              "  <style>\n",
              "    .colab-df-container {\n",
              "      display:flex;\n",
              "      gap: 12px;\n",
              "    }\n",
              "\n",
              "    .colab-df-convert {\n",
              "      background-color: #E8F0FE;\n",
              "      border: none;\n",
              "      border-radius: 50%;\n",
              "      cursor: pointer;\n",
              "      display: none;\n",
              "      fill: #1967D2;\n",
              "      height: 32px;\n",
              "      padding: 0 0 0 0;\n",
              "      width: 32px;\n",
              "    }\n",
              "\n",
              "    .colab-df-convert:hover {\n",
              "      background-color: #E2EBFA;\n",
              "      box-shadow: 0px 1px 2px rgba(60, 64, 67, 0.3), 0px 1px 3px 1px rgba(60, 64, 67, 0.15);\n",
              "      fill: #174EA6;\n",
              "    }\n",
              "\n",
              "    .colab-df-buttons div {\n",
              "      margin-bottom: 4px;\n",
              "    }\n",
              "\n",
              "    [theme=dark] .colab-df-convert {\n",
              "      background-color: #3B4455;\n",
              "      fill: #D2E3FC;\n",
              "    }\n",
              "\n",
              "    [theme=dark] .colab-df-convert:hover {\n",
              "      background-color: #434B5C;\n",
              "      box-shadow: 0px 1px 3px 1px rgba(0, 0, 0, 0.15);\n",
              "      filter: drop-shadow(0px 1px 2px rgba(0, 0, 0, 0.3));\n",
              "      fill: #FFFFFF;\n",
              "    }\n",
              "  </style>\n",
              "\n",
              "    <script>\n",
              "      const buttonEl =\n",
              "        document.querySelector('#df-a54d2177-4d34-478f-ae5a-7a3cd134fecb button.colab-df-convert');\n",
              "      buttonEl.style.display =\n",
              "        google.colab.kernel.accessAllowed ? 'block' : 'none';\n",
              "\n",
              "      async function convertToInteractive(key) {\n",
              "        const element = document.querySelector('#df-a54d2177-4d34-478f-ae5a-7a3cd134fecb');\n",
              "        const dataTable =\n",
              "          await google.colab.kernel.invokeFunction('convertToInteractive',\n",
              "                                                    [key], {});\n",
              "        if (!dataTable) return;\n",
              "\n",
              "        const docLinkHtml = 'Like what you see? Visit the ' +\n",
              "          '<a target=\"_blank\" href=https://colab.research.google.com/notebooks/data_table.ipynb>data table notebook</a>'\n",
              "          + ' to learn more about interactive tables.';\n",
              "        element.innerHTML = '';\n",
              "        dataTable['output_type'] = 'display_data';\n",
              "        await google.colab.output.renderOutput(dataTable, element);\n",
              "        const docLink = document.createElement('div');\n",
              "        docLink.innerHTML = docLinkHtml;\n",
              "        element.appendChild(docLink);\n",
              "      }\n",
              "    </script>\n",
              "  </div>\n",
              "\n",
              "\n",
              "<div id=\"df-98bf6010-951f-49af-8fc3-7565b6bfa124\">\n",
              "  <button class=\"colab-df-quickchart\" onclick=\"quickchart('df-98bf6010-951f-49af-8fc3-7565b6bfa124')\"\n",
              "            title=\"Suggest charts\"\n",
              "            style=\"display:none;\">\n",
              "\n",
              "<svg xmlns=\"http://www.w3.org/2000/svg\" height=\"24px\"viewBox=\"0 0 24 24\"\n",
              "     width=\"24px\">\n",
              "    <g>\n",
              "        <path d=\"M19 3H5c-1.1 0-2 .9-2 2v14c0 1.1.9 2 2 2h14c1.1 0 2-.9 2-2V5c0-1.1-.9-2-2-2zM9 17H7v-7h2v7zm4 0h-2V7h2v10zm4 0h-2v-4h2v4z\"/>\n",
              "    </g>\n",
              "</svg>\n",
              "  </button>\n",
              "\n",
              "<style>\n",
              "  .colab-df-quickchart {\n",
              "      --bg-color: #E8F0FE;\n",
              "      --fill-color: #1967D2;\n",
              "      --hover-bg-color: #E2EBFA;\n",
              "      --hover-fill-color: #174EA6;\n",
              "      --disabled-fill-color: #AAA;\n",
              "      --disabled-bg-color: #DDD;\n",
              "  }\n",
              "\n",
              "  [theme=dark] .colab-df-quickchart {\n",
              "      --bg-color: #3B4455;\n",
              "      --fill-color: #D2E3FC;\n",
              "      --hover-bg-color: #434B5C;\n",
              "      --hover-fill-color: #FFFFFF;\n",
              "      --disabled-bg-color: #3B4455;\n",
              "      --disabled-fill-color: #666;\n",
              "  }\n",
              "\n",
              "  .colab-df-quickchart {\n",
              "    background-color: var(--bg-color);\n",
              "    border: none;\n",
              "    border-radius: 50%;\n",
              "    cursor: pointer;\n",
              "    display: none;\n",
              "    fill: var(--fill-color);\n",
              "    height: 32px;\n",
              "    padding: 0;\n",
              "    width: 32px;\n",
              "  }\n",
              "\n",
              "  .colab-df-quickchart:hover {\n",
              "    background-color: var(--hover-bg-color);\n",
              "    box-shadow: 0 1px 2px rgba(60, 64, 67, 0.3), 0 1px 3px 1px rgba(60, 64, 67, 0.15);\n",
              "    fill: var(--button-hover-fill-color);\n",
              "  }\n",
              "\n",
              "  .colab-df-quickchart-complete:disabled,\n",
              "  .colab-df-quickchart-complete:disabled:hover {\n",
              "    background-color: var(--disabled-bg-color);\n",
              "    fill: var(--disabled-fill-color);\n",
              "    box-shadow: none;\n",
              "  }\n",
              "\n",
              "  .colab-df-spinner {\n",
              "    border: 2px solid var(--fill-color);\n",
              "    border-color: transparent;\n",
              "    border-bottom-color: var(--fill-color);\n",
              "    animation:\n",
              "      spin 1s steps(1) infinite;\n",
              "  }\n",
              "\n",
              "  @keyframes spin {\n",
              "    0% {\n",
              "      border-color: transparent;\n",
              "      border-bottom-color: var(--fill-color);\n",
              "      border-left-color: var(--fill-color);\n",
              "    }\n",
              "    20% {\n",
              "      border-color: transparent;\n",
              "      border-left-color: var(--fill-color);\n",
              "      border-top-color: var(--fill-color);\n",
              "    }\n",
              "    30% {\n",
              "      border-color: transparent;\n",
              "      border-left-color: var(--fill-color);\n",
              "      border-top-color: var(--fill-color);\n",
              "      border-right-color: var(--fill-color);\n",
              "    }\n",
              "    40% {\n",
              "      border-color: transparent;\n",
              "      border-right-color: var(--fill-color);\n",
              "      border-top-color: var(--fill-color);\n",
              "    }\n",
              "    60% {\n",
              "      border-color: transparent;\n",
              "      border-right-color: var(--fill-color);\n",
              "    }\n",
              "    80% {\n",
              "      border-color: transparent;\n",
              "      border-right-color: var(--fill-color);\n",
              "      border-bottom-color: var(--fill-color);\n",
              "    }\n",
              "    90% {\n",
              "      border-color: transparent;\n",
              "      border-bottom-color: var(--fill-color);\n",
              "    }\n",
              "  }\n",
              "</style>\n",
              "\n",
              "  <script>\n",
              "    async function quickchart(key) {\n",
              "      const quickchartButtonEl =\n",
              "        document.querySelector('#' + key + ' button');\n",
              "      quickchartButtonEl.disabled = true;  // To prevent multiple clicks.\n",
              "      quickchartButtonEl.classList.add('colab-df-spinner');\n",
              "      try {\n",
              "        const charts = await google.colab.kernel.invokeFunction(\n",
              "            'suggestCharts', [key], {});\n",
              "      } catch (error) {\n",
              "        console.error('Error during call to suggestCharts:', error);\n",
              "      }\n",
              "      quickchartButtonEl.classList.remove('colab-df-spinner');\n",
              "      quickchartButtonEl.classList.add('colab-df-quickchart-complete');\n",
              "    }\n",
              "    (() => {\n",
              "      let quickchartButtonEl =\n",
              "        document.querySelector('#df-98bf6010-951f-49af-8fc3-7565b6bfa124 button');\n",
              "      quickchartButtonEl.style.display =\n",
              "        google.colab.kernel.accessAllowed ? 'block' : 'none';\n",
              "    })();\n",
              "  </script>\n",
              "</div>\n",
              "\n",
              "    </div>\n",
              "  </div>\n"
            ],
            "application/vnd.google.colaboratory.intrinsic+json": {
              "type": "dataframe",
              "variable_name": "df",
              "summary": "{\n  \"name\": \"df\",\n  \"rows\": 500,\n  \"fields\": [\n    {\n      \"column\": \"Ministry\",\n      \"properties\": {\n        \"dtype\": \"category\",\n        \"num_unique_values\": 10,\n        \"samples\": [\n          \"Ministry of Road Transport and Highways\",\n          \"Ministry of Finance\",\n          \"Ministry of Agriculture and Farmers Welfare\"\n        ],\n        \"semantic_type\": \"\",\n        \"description\": \"\"\n      }\n    },\n    {\n      \"column\": \"Headline\",\n      \"properties\": {\n        \"dtype\": \"string\",\n        \"num_unique_values\": 495,\n        \"samples\": [\n          \"india uk fta negotiations status updates\",\n          \"populist pledges fiscal finetuning decoding anticipated budget impact\",\n          \"universal health care system india indepth examination ayushman bharat initiative\"\n        ],\n        \"semantic_type\": \"\",\n        \"description\": \"\"\n      }\n    },\n    {\n      \"column\": \"Source\",\n      \"properties\": {\n        \"dtype\": \"category\",\n        \"num_unique_values\": 174,\n        \"samples\": [\n          \"Rising Kashmir\",\n          \"Verywell Health\",\n          \"Middle East Eye\"\n        ],\n        \"semantic_type\": \"\",\n        \"description\": \"\"\n      }\n    }\n  ]\n}"
            }
          },
          "metadata": {},
          "execution_count": 13
        }
      ]
    },
    {
      "cell_type": "code",
      "source": [
        "from sklearn.model_selection import train_test_split\n",
        "\n",
        "df = pd.read_csv('gres.csv')\n",
        "\n",
        "num_classes = 3\n",
        "cols_per_class = 10\n",
        "\n",
        "# Reshape the DataFrame\n",
        "data_list = []\n",
        "for class_index in range(num_classes):\n",
        "    start_col = class_index * cols_per_class\n",
        "    end_col = start_col + cols_per_class\n",
        "    class_data = df.iloc[:, start_col:end_col]\n",
        "    class_data['label'] = class_index  # Add a label column\n",
        "    data_list.append(class_data)\n",
        "\n",
        "# Concatenate all class data\n",
        "reshaped_df = pd.concat(data_list, axis=0).reset_index(drop=True)\n"
      ],
      "metadata": {
        "id": "S8gBkBda-io5"
      },
      "execution_count": null,
      "outputs": []
    }
  ]
}